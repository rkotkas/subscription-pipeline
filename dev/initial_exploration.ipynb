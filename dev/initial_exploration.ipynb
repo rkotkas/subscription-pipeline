{
 "cells": [
  {
   "cell_type": "code",
   "execution_count": null,
   "id": "913896d5-aa77-449b-bfe1-bd098b2958da",
   "metadata": {},
   "outputs": [],
   "source": []
  },
  {
   "cell_type": "code",
   "execution_count": 1,
   "id": "5c23b2fd-9162-46af-b9ad-da81836422e0",
   "metadata": {},
   "outputs": [],
   "source": [
    "from sqlalchemy import create_engine, inspect\n",
    "import pandas as pd\n",
    "\n",
    "# Path to the database file\n",
    "db_path = '../cademycode.db'\n",
    "\n",
    "# Create a database engine\n",
    "engine = create_engine(f'sqlite:///{db_path}')"
   ]
  },
  {
   "cell_type": "code",
   "execution_count": 2,
   "id": "451e2ea7-2a00-40a6-b664-2f90efd33b98",
   "metadata": {},
   "outputs": [],
   "source": [
    "# inspector to get the list of tables\n",
    "inspector = inspect(engine)\n",
    "tables = inspector.get_table_names()"
   ]
  },
  {
   "cell_type": "code",
   "execution_count": 3,
   "id": "66887e29-a81b-4ef7-a545-1188529b5a2a",
   "metadata": {},
   "outputs": [
    {
     "name": "stdout",
     "output_type": "stream",
     "text": [
      "['cademycode_courses', 'cademycode_student_jobs', 'cademycode_students']\n"
     ]
    }
   ],
   "source": [
    "print(tables)"
   ]
  },
  {
   "cell_type": "code",
   "execution_count": 4,
   "id": "3df78717-1687-4874-aa4f-017bf988f03d",
   "metadata": {},
   "outputs": [
    {
     "name": "stdout",
     "output_type": "stream",
     "text": [
      "Data from cademycode_courses:\n",
      "   career_path_id      career_path_name  hours_to_complete\n",
      "0               1        data scientist                 20\n",
      "1               2         data engineer                 20\n",
      "2               3          data analyst                 12\n",
      "3               4  software engineering                 25\n",
      "4               5      backend engineer                 18\n",
      "Data from cademycode_student_jobs:\n",
      "   job_id        job_category  avg_salary\n",
      "0       1           analytics       86000\n",
      "1       2            engineer      101000\n",
      "2       3  software developer      110000\n",
      "3       4            creative       66000\n",
      "4       5  financial services      135000\n",
      "Data from cademycode_students:\n",
      "   uuid             name         dob sex  \\\n",
      "0     1  Annabelle Avery  1943-07-03   F   \n",
      "1     2      Micah Rubio  1991-02-07   M   \n",
      "2     3       Hosea Dale  1989-12-07   M   \n",
      "3     4     Mariann Kirk  1988-07-31   F   \n",
      "4     5  Lucio Alexander  1963-08-31   M   \n",
      "\n",
      "                                        contact_info job_id num_course_taken  \\\n",
      "0  {'mailing_address': '303 N Timber Key, Irondal...    7.0              6.0   \n",
      "1  {'mailing_address': '767 Crescent Fair, Shoals...    7.0              5.0   \n",
      "2  {'mailing_address': 'P.O. Box 41269, St. Bonav...    7.0              8.0   \n",
      "3  {'mailing_address': '517 SE Wintergreen Isle, ...    6.0              7.0   \n",
      "4  {'mailing_address': '18 Cinder Cliff, Doyles b...    7.0             14.0   \n",
      "\n",
      "  current_career_path_id time_spent_hrs  \n",
      "0                    1.0           4.99  \n",
      "1                    8.0            4.4  \n",
      "2                    8.0           6.74  \n",
      "3                    9.0          12.31  \n",
      "4                    3.0           5.64  \n"
     ]
    }
   ],
   "source": [
    "# Import each table into a DataFrame\n",
    "dataframes = {}\n",
    "\n",
    "for table in tables:\n",
    "    df = pd.read_sql_table(table, engine)\n",
    "    dataframes[table] = df\n",
    "    print(f\"Data from {table}:\")\n",
    "    print(df.head())\n",
    "\n",
    "# Now all the tables have been loaded into DataFrames stored in the `dataframes` dictionary"
   ]
  },
  {
   "cell_type": "code",
   "execution_count": 5,
   "id": "500ad517-9da2-4a9f-8538-36cefbff07c7",
   "metadata": {},
   "outputs": [],
   "source": [
    "df_courses = dataframes.get('cademycode_courses', pd.DataFrame())\n",
    "df_jobs = dataframes.get('cademycode_student_jobs', pd.DataFrame())\n",
    "df_students = dataframes.get('cademycode_students', pd.DataFrame())"
   ]
  },
  {
   "cell_type": "markdown",
   "id": "674e4155-2c76-4e2b-ad51-ff778db7c4aa",
   "metadata": {},
   "source": [
    "There are three tables in database and ow all the tables have been loaded into DataFrames. Let's explore the DataFrames"
   ]
  },
  {
   "cell_type": "markdown",
   "id": "9ba4dcf6-84df-4cd1-8bed-102c1158c029",
   "metadata": {},
   "source": [
    "1. df_courses"
   ]
  },
  {
   "cell_type": "code",
   "execution_count": 6,
   "id": "f1601ff6-4697-493d-8951-4ece61a03989",
   "metadata": {},
   "outputs": [
    {
     "name": "stdout",
     "output_type": "stream",
     "text": [
      "<class 'pandas.core.frame.DataFrame'>\n",
      "RangeIndex: 10 entries, 0 to 9\n",
      "Data columns (total 3 columns):\n",
      " #   Column             Non-Null Count  Dtype \n",
      "---  ------             --------------  ----- \n",
      " 0   career_path_id     10 non-null     int64 \n",
      " 1   career_path_name   10 non-null     object\n",
      " 2   hours_to_complete  10 non-null     int64 \n",
      "dtypes: int64(2), object(1)\n",
      "memory usage: 372.0+ bytes\n"
     ]
    }
   ],
   "source": [
    "# inspect df_courses\n",
    "df_courses.info()"
   ]
  },
  {
   "cell_type": "code",
   "execution_count": 7,
   "id": "31119543-b02d-40b3-9e90-7eed443d3331",
   "metadata": {},
   "outputs": [
    {
     "name": "stdout",
     "output_type": "stream",
     "text": [
      "   career_path_id           career_path_name  hours_to_complete\n",
      "0               1             data scientist                 20\n",
      "1               2              data engineer                 20\n",
      "2               3               data analyst                 12\n",
      "3               4       software engineering                 25\n",
      "4               5           backend engineer                 18\n",
      "5               6          frontend engineer                 20\n",
      "6               7              iOS developer                 27\n",
      "7               8          android developer                 27\n",
      "8               9  machine learning engineer                 35\n",
      "9              10             ux/ui designer                 15\n"
     ]
    }
   ],
   "source": [
    "print(df_courses)"
   ]
  },
  {
   "cell_type": "markdown",
   "id": "90f6f201-d5f3-401a-a6bb-268767735273",
   "metadata": {},
   "source": [
    "There is no duplicates and null values in df_courses and all the data looks suitable for later analysis"
   ]
  },
  {
   "cell_type": "markdown",
   "id": "d0cc931a-b0f3-41e8-b1e2-7cd1623e0103",
   "metadata": {},
   "source": [
    "2. df_jobs"
   ]
  },
  {
   "cell_type": "code",
   "execution_count": 8,
   "id": "f6066b3c-d4bb-4fc7-9c48-ae38b30e74fe",
   "metadata": {},
   "outputs": [
    {
     "name": "stdout",
     "output_type": "stream",
     "text": [
      "<class 'pandas.core.frame.DataFrame'>\n",
      "RangeIndex: 13 entries, 0 to 12\n",
      "Data columns (total 3 columns):\n",
      " #   Column        Non-Null Count  Dtype \n",
      "---  ------        --------------  ----- \n",
      " 0   job_id        13 non-null     int64 \n",
      " 1   job_category  13 non-null     object\n",
      " 2   avg_salary    13 non-null     int64 \n",
      "dtypes: int64(2), object(1)\n",
      "memory usage: 444.0+ bytes\n"
     ]
    }
   ],
   "source": [
    "# inspect df_jobs\n",
    "df_jobs.info()"
   ]
  },
  {
   "cell_type": "code",
   "execution_count": 9,
   "id": "e5c3eff3-010f-48ca-93fd-6fc3364dcc51",
   "metadata": {},
   "outputs": [
    {
     "name": "stdout",
     "output_type": "stream",
     "text": [
      "    job_id        job_category  avg_salary\n",
      "0        1           analytics       86000\n",
      "1        2            engineer      101000\n",
      "2        3  software developer      110000\n",
      "3        4            creative       66000\n",
      "4        5  financial services      135000\n",
      "5        6           education       61000\n",
      "6        7                  HR       80000\n",
      "7        8             student       10000\n",
      "8        9          healthcare      120000\n",
      "9        0               other       80000\n",
      "10       3  software developer      110000\n",
      "11       4            creative       66000\n",
      "12       5  financial services      135000\n"
     ]
    }
   ],
   "source": [
    "print(df_jobs)"
   ]
  },
  {
   "cell_type": "markdown",
   "id": "5551c93c-363e-47a3-a072-83a22e07c826",
   "metadata": {},
   "source": [
    "There are some duplicates in this DataFrame that we can remove"
   ]
  },
  {
   "cell_type": "code",
   "execution_count": 10,
   "id": "69276624-4531-4397-a0a9-fe128a13cb6c",
   "metadata": {},
   "outputs": [
    {
     "data": {
      "text/html": [
       "<div>\n",
       "<style scoped>\n",
       "    .dataframe tbody tr th:only-of-type {\n",
       "        vertical-align: middle;\n",
       "    }\n",
       "\n",
       "    .dataframe tbody tr th {\n",
       "        vertical-align: top;\n",
       "    }\n",
       "\n",
       "    .dataframe thead th {\n",
       "        text-align: right;\n",
       "    }\n",
       "</style>\n",
       "<table border=\"1\" class=\"dataframe\">\n",
       "  <thead>\n",
       "    <tr style=\"text-align: right;\">\n",
       "      <th></th>\n",
       "      <th>job_id</th>\n",
       "      <th>job_category</th>\n",
       "      <th>avg_salary</th>\n",
       "    </tr>\n",
       "  </thead>\n",
       "  <tbody>\n",
       "    <tr>\n",
       "      <th>10</th>\n",
       "      <td>3</td>\n",
       "      <td>software developer</td>\n",
       "      <td>110000</td>\n",
       "    </tr>\n",
       "    <tr>\n",
       "      <th>11</th>\n",
       "      <td>4</td>\n",
       "      <td>creative</td>\n",
       "      <td>66000</td>\n",
       "    </tr>\n",
       "    <tr>\n",
       "      <th>12</th>\n",
       "      <td>5</td>\n",
       "      <td>financial services</td>\n",
       "      <td>135000</td>\n",
       "    </tr>\n",
       "  </tbody>\n",
       "</table>\n",
       "</div>"
      ],
      "text/plain": [
       "    job_id        job_category  avg_salary\n",
       "10       3  software developer      110000\n",
       "11       4            creative       66000\n",
       "12       5  financial services      135000"
      ]
     },
     "execution_count": 10,
     "metadata": {},
     "output_type": "execute_result"
    }
   ],
   "source": [
    "# Checking for duplicates\n",
    "duplicates = df_jobs.duplicated()\n",
    "\n",
    "# Display the duplicate rows\n",
    "df_jobs[duplicates]"
   ]
  },
  {
   "cell_type": "code",
   "execution_count": 11,
   "id": "a976aaee-2b18-41e9-8ba8-dfb9e13adeb6",
   "metadata": {},
   "outputs": [
    {
     "name": "stdout",
     "output_type": "stream",
     "text": [
      "   job_id        job_category  avg_salary\n",
      "0       1           analytics       86000\n",
      "1       2            engineer      101000\n",
      "2       3  software developer      110000\n",
      "3       4            creative       66000\n",
      "4       5  financial services      135000\n",
      "5       6           education       61000\n",
      "6       7                  HR       80000\n",
      "7       8             student       10000\n",
      "8       9          healthcare      120000\n",
      "9       0               other       80000\n"
     ]
    }
   ],
   "source": [
    "# drop duplicates\n",
    "cleaned_df_jobs = df_jobs.drop_duplicates()\n",
    "print(cleaned_df_jobs)"
   ]
  },
  {
   "cell_type": "code",
   "execution_count": 12,
   "id": "de1fa60f-23f3-4559-b745-1c71032a7e71",
   "metadata": {},
   "outputs": [],
   "source": [
    "import matplotlib.pyplot as plt\n"
   ]
  },
  {
   "cell_type": "code",
   "execution_count": 13,
   "id": "8d91481f-c444-45a4-bc81-270e8efe24ba",
   "metadata": {},
   "outputs": [
    {
     "data": {
      "image/png": "[encoded data removed]",
      "text/plain": [
       "<Figure size 1000x600 with 1 Axes>"
      ]
     },
     "metadata": {},
     "output_type": "display_data"
    }
   ],
   "source": [
    "# Plotting the bar plot\n",
    "plt.figure(figsize=(10, 6))\n",
    "plt.barh(cleaned_df_jobs['job_category'], cleaned_df_jobs['avg_salary'], color='skyblue')\n",
    "\n",
    "# Adding title and labels\n",
    "plt.title('Average Salary by Job Category')\n",
    "plt.xlabel('Average Salary')\n",
    "plt.ylabel('Job Category')\n",
    "\n",
    "# Display the plot\n",
    "plt.show()"
   ]
  },
  {
   "cell_type": "markdown",
   "id": "1454c402-b14a-4c51-b4af-2263e136efbe",
   "metadata": {},
   "source": [
    "3. df_students"
   ]
  },
  {
   "cell_type": "code",
   "execution_count": 14,
   "id": "9b27fdfb-dd78-4ad9-b900-a6a7239ced84",
   "metadata": {},
   "outputs": [
    {
     "data": {
      "text/html": [
       "<div>\n",
       "<style scoped>\n",
       "    .dataframe tbody tr th:only-of-type {\n",
       "        vertical-align: middle;\n",
       "    }\n",
       "\n",
       "    .dataframe tbody tr th {\n",
       "        vertical-align: top;\n",
       "    }\n",
       "\n",
       "    .dataframe thead th {\n",
       "        text-align: right;\n",
       "    }\n",
       "</style>\n",
       "<table border=\"1\" class=\"dataframe\">\n",
       "  <thead>\n",
       "    <tr style=\"text-align: right;\">\n",
       "      <th></th>\n",
       "      <th>uuid</th>\n",
       "      <th>name</th>\n",
       "      <th>dob</th>\n",
       "      <th>sex</th>\n",
       "      <th>contact_info</th>\n",
       "      <th>job_id</th>\n",
       "      <th>num_course_taken</th>\n",
       "      <th>current_career_path_id</th>\n",
       "      <th>time_spent_hrs</th>\n",
       "    </tr>\n",
       "  </thead>\n",
       "  <tbody>\n",
       "    <tr>\n",
       "      <th>0</th>\n",
       "      <td>1</td>\n",
       "      <td>Annabelle Avery</td>\n",
       "      <td>1943-07-03</td>\n",
       "      <td>F</td>\n",
       "      <td>{'mailing_address': '303 N Timber Key, Irondal...</td>\n",
       "      <td>7.0</td>\n",
       "      <td>6.0</td>\n",
       "      <td>1.0</td>\n",
       "      <td>4.99</td>\n",
       "    </tr>\n",
       "    <tr>\n",
       "      <th>1</th>\n",
       "      <td>2</td>\n",
       "      <td>Micah Rubio</td>\n",
       "      <td>1991-02-07</td>\n",
       "      <td>M</td>\n",
       "      <td>{'mailing_address': '767 Crescent Fair, Shoals...</td>\n",
       "      <td>7.0</td>\n",
       "      <td>5.0</td>\n",
       "      <td>8.0</td>\n",
       "      <td>4.4</td>\n",
       "    </tr>\n",
       "    <tr>\n",
       "      <th>2</th>\n",
       "      <td>3</td>\n",
       "      <td>Hosea Dale</td>\n",
       "      <td>1989-12-07</td>\n",
       "      <td>M</td>\n",
       "      <td>{'mailing_address': 'P.O. Box 41269, St. Bonav...</td>\n",
       "      <td>7.0</td>\n",
       "      <td>8.0</td>\n",
       "      <td>8.0</td>\n",
       "      <td>6.74</td>\n",
       "    </tr>\n",
       "    <tr>\n",
       "      <th>3</th>\n",
       "      <td>4</td>\n",
       "      <td>Mariann Kirk</td>\n",
       "      <td>1988-07-31</td>\n",
       "      <td>F</td>\n",
       "      <td>{'mailing_address': '517 SE Wintergreen Isle, ...</td>\n",
       "      <td>6.0</td>\n",
       "      <td>7.0</td>\n",
       "      <td>9.0</td>\n",
       "      <td>12.31</td>\n",
       "    </tr>\n",
       "    <tr>\n",
       "      <th>4</th>\n",
       "      <td>5</td>\n",
       "      <td>Lucio Alexander</td>\n",
       "      <td>1963-08-31</td>\n",
       "      <td>M</td>\n",
       "      <td>{'mailing_address': '18 Cinder Cliff, Doyles b...</td>\n",
       "      <td>7.0</td>\n",
       "      <td>14.0</td>\n",
       "      <td>3.0</td>\n",
       "      <td>5.64</td>\n",
       "    </tr>\n",
       "  </tbody>\n",
       "</table>\n",
       "</div>"
      ],
      "text/plain": [
       "   uuid             name         dob sex  \\\n",
       "0     1  Annabelle Avery  1943-07-03   F   \n",
       "1     2      Micah Rubio  1991-02-07   M   \n",
       "2     3       Hosea Dale  1989-12-07   M   \n",
       "3     4     Mariann Kirk  1988-07-31   F   \n",
       "4     5  Lucio Alexander  1963-08-31   M   \n",
       "\n",
       "                                        contact_info job_id num_course_taken  \\\n",
       "0  {'mailing_address': '303 N Timber Key, Irondal...    7.0              6.0   \n",
       "1  {'mailing_address': '767 Crescent Fair, Shoals...    7.0              5.0   \n",
       "2  {'mailing_address': 'P.O. Box 41269, St. Bonav...    7.0              8.0   \n",
       "3  {'mailing_address': '517 SE Wintergreen Isle, ...    6.0              7.0   \n",
       "4  {'mailing_address': '18 Cinder Cliff, Doyles b...    7.0             14.0   \n",
       "\n",
       "  current_career_path_id time_spent_hrs  \n",
       "0                    1.0           4.99  \n",
       "1                    8.0            4.4  \n",
       "2                    8.0           6.74  \n",
       "3                    9.0          12.31  \n",
       "4                    3.0           5.64  "
      ]
     },
     "execution_count": 14,
     "metadata": {},
     "output_type": "execute_result"
    }
   ],
   "source": [
    "# inspect df_students\n",
    "df_students.head()"
   ]
  },
  {
   "cell_type": "code",
   "execution_count": 15,
   "id": "6c21cb0c-8b3b-4042-86cb-ba2448870abf",
   "metadata": {},
   "outputs": [
    {
     "name": "stdout",
     "output_type": "stream",
     "text": [
      "<class 'pandas.core.frame.DataFrame'>\n",
      "RangeIndex: 5000 entries, 0 to 4999\n",
      "Data columns (total 9 columns):\n",
      " #   Column                  Non-Null Count  Dtype \n",
      "---  ------                  --------------  ----- \n",
      " 0   uuid                    5000 non-null   int64 \n",
      " 1   name                    5000 non-null   object\n",
      " 2   dob                     5000 non-null   object\n",
      " 3   sex                     5000 non-null   object\n",
      " 4   contact_info            5000 non-null   object\n",
      " 5   job_id                  4995 non-null   object\n",
      " 6   num_course_taken        4749 non-null   object\n",
      " 7   current_career_path_id  4529 non-null   object\n",
      " 8   time_spent_hrs          4529 non-null   object\n",
      "dtypes: int64(1), object(8)\n",
      "memory usage: 351.7+ KB\n"
     ]
    }
   ],
   "source": [
    "df_students.info()"
   ]
  },
  {
   "cell_type": "markdown",
   "id": "3d31d012-d4a3-4a1b-81cc-87ccee19fe23",
   "metadata": {},
   "source": [
    "There are null values and data types may need to be changed"
   ]
  },
  {
   "cell_type": "markdown",
   "id": "67c5c224-542e-4d47-8ae9-fb69bc053d63",
   "metadata": {},
   "source": [
    "1. Remove null values"
   ]
  },
  {
   "cell_type": "code",
   "execution_count": 16,
   "id": "24cfd977-63ab-433a-8cc9-5d48895647a8",
   "metadata": {},
   "outputs": [
    {
     "name": "stdout",
     "output_type": "stream",
     "text": [
      "uuid                        0\n",
      "name                        0\n",
      "dob                         0\n",
      "sex                         0\n",
      "contact_info                0\n",
      "job_id                      5\n",
      "num_course_taken          251\n",
      "current_career_path_id    471\n",
      "time_spent_hrs            471\n",
      "dtype: int64\n"
     ]
    }
   ],
   "source": [
    "null_counts = df_students.isnull().sum()\n",
    "\n",
    "# Display the count of null values per column\n",
    "print(null_counts)"
   ]
  },
  {
   "cell_type": "code",
   "execution_count": 17,
   "id": "28e68e6d-a0ed-4775-8092-517278906e42",
   "metadata": {},
   "outputs": [
    {
     "name": "stdout",
     "output_type": "stream",
     "text": [
      "      uuid                   name         dob sex  \\\n",
      "15      16          Norene Dalton  1976-04-30   F   \n",
      "19      20  Sofia van Steenbergen  1990-02-21   N   \n",
      "25      26          Doug Browning  1970-06-08   M   \n",
      "26      27        Damon Schrauwen  1953-10-31   M   \n",
      "30      31      Christoper Warner  1989-12-28   M   \n",
      "...    ...                    ...         ...  ..   \n",
      "4948  4949      Dewitt van Malsem  1949-03-08   M   \n",
      "4956  4957          Todd Stamhuis  1961-06-15   M   \n",
      "4974  4975         Jorge Creelman  1944-11-24   M   \n",
      "4980  4981         Brice Franklin  1946-12-01   M   \n",
      "4985  4986           Russel Vonck  1994-09-07   M   \n",
      "\n",
      "                                           contact_info job_id  \\\n",
      "15    {'mailing_address': '130 Wishing Essex, Branch...    6.0   \n",
      "19    {'mailing_address': '634 Clear Barn Dell, Beam...    7.0   \n",
      "25    {'mailing_address': 'P.O. Box 15845, Devine, F...    7.0   \n",
      "26    {'mailing_address': 'P.O. Box 84659, Maben, Ge...    4.0   \n",
      "30    {'mailing_address': '556 Stony Highlands, Drai...    2.0   \n",
      "...                                                 ...    ...   \n",
      "4948  {'mailing_address': '423 Course Trail, Wilmot,...    4.0   \n",
      "4956  {'mailing_address': '251 Grand Rose Underpass,...    7.0   \n",
      "4974  {'mailing_address': '919 Well Overpass, Linden...    2.0   \n",
      "4980  {'mailing_address': '947 Panda Way, New Bedfor...    4.0   \n",
      "4985  {'mailing_address': '815 Middle Timber Corner,...    5.0   \n",
      "\n",
      "     num_course_taken current_career_path_id time_spent_hrs  \n",
      "15                0.0                   None           None  \n",
      "19               13.0                   None           None  \n",
      "25               None                    5.0           1.92  \n",
      "26               None                   10.0           3.73  \n",
      "30                5.0                   None           None  \n",
      "...               ...                    ...            ...  \n",
      "4948              7.0                   None           None  \n",
      "4956              8.0                   None           None  \n",
      "4974             15.0                   None           None  \n",
      "4980             None                    5.0           8.66  \n",
      "4985             None                    5.0          16.44  \n",
      "\n",
      "[707 rows x 9 columns]\n"
     ]
    }
   ],
   "source": [
    "# Retrieve rows with any null values\n",
    "rows_with_nulls = df_students[df_students.isnull().any(axis=1)]\n",
    "\n",
    "# Display the rows with null values\n",
    "print(rows_with_nulls)"
   ]
  },
  {
   "cell_type": "markdown",
   "id": "5c1a4b2b-44ac-4dd7-93a9-f80d435e0013",
   "metadata": {},
   "source": [
    "We have 707 rows that have null values: 471 with no career path id and hours spent in the path and 251 rows with null values in num_course_taken. I can assume that if the current_career_path_id is null then time_spent_hrs is also null.\n"
   ]
  },
  {
   "cell_type": "code",
   "execution_count": 18,
   "id": "dfe4e5bd-64e8-40b3-b58f-df22f679ac92",
   "metadata": {},
   "outputs": [
    {
     "name": "stdout",
     "output_type": "stream",
     "text": [
      "471\n"
     ]
    }
   ],
   "source": [
    "# Check for rows where both 'current_career_path_id' and 'time_spent_hrs' are null\n",
    "count_both_nulls = df_students[df_students['current_career_path_id'].isnull() & df_students['time_spent_hrs'].isnull()].shape[0]\n",
    "\n",
    "# Display the count\n",
    "print(count_both_nulls)"
   ]
  },
  {
   "cell_type": "code",
   "execution_count": 19,
   "id": "79d8b65e-919c-41ef-a415-ae2a1f2eb0ef",
   "metadata": {},
   "outputs": [
    {
     "name": "stdout",
     "output_type": "stream",
     "text": [
      "20\n"
     ]
    }
   ],
   "source": [
    "# Check for rows where both 'current_career_path_id' and 'num_course_taken' are null\n",
    "count_both_nulls2 = df_students[df_students['current_career_path_id'].isnull() & df_students['num_course_taken'].isnull()].shape[0]\n",
    "\n",
    "# Display the count\n",
    "print(count_both_nulls2)"
   ]
  },
  {
   "cell_type": "markdown",
   "id": "f1b01c01-1580-423d-bb05-ff314706e945",
   "metadata": {},
   "source": [
    "I assume the purpose is to analyse active students so I decide to delete these null values"
   ]
  },
  {
   "cell_type": "code",
   "execution_count": 20,
   "id": "96028534-e63e-4ad6-84ad-c53dd246ffb8",
   "metadata": {},
   "outputs": [
    {
     "name": "stdout",
     "output_type": "stream",
     "text": [
      "<class 'pandas.core.frame.DataFrame'>\n",
      "Index: 4293 entries, 0 to 4999\n",
      "Data columns (total 9 columns):\n",
      " #   Column                  Non-Null Count  Dtype \n",
      "---  ------                  --------------  ----- \n",
      " 0   uuid                    4293 non-null   int64 \n",
      " 1   name                    4293 non-null   object\n",
      " 2   dob                     4293 non-null   object\n",
      " 3   sex                     4293 non-null   object\n",
      " 4   contact_info            4293 non-null   object\n",
      " 5   job_id                  4293 non-null   object\n",
      " 6   num_course_taken        4293 non-null   object\n",
      " 7   current_career_path_id  4293 non-null   object\n",
      " 8   time_spent_hrs          4293 non-null   object\n",
      "dtypes: int64(1), object(8)\n",
      "memory usage: 335.4+ KB\n",
      "None\n"
     ]
    }
   ],
   "source": [
    "df_students_dropped = df_students.dropna(subset=['job_id', 'num_course_taken', 'current_career_path_id', 'time_spent_hrs'])\n",
    "print(df_students_dropped.info())"
   ]
  },
  {
   "cell_type": "markdown",
   "id": "41826da9-d1f6-4623-bb8f-da61cd54d475",
   "metadata": {},
   "source": [
    "2. Change the datatypes"
   ]
  },
  {
   "cell_type": "code",
   "execution_count": 21,
   "id": "f23b35dc-e8d2-4653-a1db-19bfb48b4aaf",
   "metadata": {},
   "outputs": [
    {
     "name": "stdout",
     "output_type": "stream",
     "text": [
      "<class 'pandas.core.frame.DataFrame'>\n",
      "Index: 4293 entries, 0 to 4999\n",
      "Data columns (total 9 columns):\n",
      " #   Column                  Non-Null Count  Dtype         \n",
      "---  ------                  --------------  -----         \n",
      " 0   uuid                    4293 non-null   int64         \n",
      " 1   name                    4293 non-null   object        \n",
      " 2   dob                     4293 non-null   datetime64[ns]\n",
      " 3   sex                     4293 non-null   object        \n",
      " 4   contact_info            4293 non-null   object        \n",
      " 5   job_id                  4293 non-null   int32         \n",
      " 6   num_course_taken        4293 non-null   int32         \n",
      " 7   current_career_path_id  4293 non-null   int32         \n",
      " 8   time_spent_hrs          4293 non-null   float64       \n",
      "dtypes: datetime64[ns](1), float64(1), int32(3), int64(1), object(3)\n",
      "memory usage: 285.1+ KB\n",
      "None\n",
      "   uuid             name        dob sex  \\\n",
      "0     1  Annabelle Avery 1943-07-03   F   \n",
      "1     2      Micah Rubio 1991-02-07   M   \n",
      "2     3       Hosea Dale 1989-12-07   M   \n",
      "3     4     Mariann Kirk 1988-07-31   F   \n",
      "4     5  Lucio Alexander 1963-08-31   M   \n",
      "\n",
      "                                        contact_info  job_id  \\\n",
      "0  {\"mailing_address\": \"303 N Timber Key, Irondal...       7   \n",
      "1  {\"mailing_address\": \"767 Crescent Fair, Shoals...       7   \n",
      "2  {\"mailing_address\": \"P.O. Box 41269, St. Bonav...       7   \n",
      "3  {\"mailing_address\": \"517 SE Wintergreen Isle, ...       6   \n",
      "4  {\"mailing_address\": \"18 Cinder Cliff, Doyles b...       7   \n",
      "\n",
      "   num_course_taken  current_career_path_id  time_spent_hrs  \n",
      "0                 6                       1            4.99  \n",
      "1                 5                       8            4.40  \n",
      "2                 8                       8            6.74  \n",
      "3                 7                       9           12.31  \n",
      "4                14                       3            5.64  \n"
     ]
    }
   ],
   "source": [
    "import json\n",
    "\n",
    "df_clean_students = df_students_dropped.copy()\n",
    "\n",
    "df_clean_students['dob'] = pd.to_datetime(df_clean_students['dob'], errors='coerce')\n",
    "df_clean_students['job_id'] = pd.to_numeric(df_clean_students['job_id'], errors='coerce')\n",
    "df_clean_students['num_course_taken'] = pd.to_numeric(df_clean_students['num_course_taken'], errors='coerce')\n",
    "df_clean_students['current_career_path_id'] = pd.to_numeric(df_clean_students['current_career_path_id'], errors='coerce')\n",
    "df_clean_students['time_spent_hrs'] = pd.to_numeric(df_clean_students['time_spent_hrs'], errors='coerce')\n",
    "\n",
    "df_clean_students['dob'] = df_clean_students['dob'].astype('datetime64[ns]')\n",
    "df_clean_students['job_id'] = df_clean_students['job_id'].astype(int)\n",
    "df_clean_students['num_course_taken'] = df_clean_students['num_course_taken'].astype(int)\n",
    "df_clean_students['current_career_path_id'] = df_clean_students['current_career_path_id'].astype(int)\n",
    "df_clean_students['time_spent_hrs'] = df_clean_students['time_spent_hrs'].astype(float)\n",
    "df_clean_students['contact_info'] = df_clean_students['contact_info'].apply(json.dumps)\n",
    "\n",
    "print(df_clean_students.info())\n",
    "print(df_clean_students.head())\n"
   ]
  },
  {
   "cell_type": "markdown",
   "id": "7bd34297-95c1-4f27-85c9-726d9c5ff95d",
   "metadata": {},
   "source": [
    "Check the categorical columns 'sex'"
   ]
  },
  {
   "cell_type": "code",
   "execution_count": 22,
   "id": "aee133d0-d6fd-4b10-baae-6f65bfa90e39",
   "metadata": {},
   "outputs": [
    {
     "name": "stdout",
     "output_type": "stream",
     "text": [
      "['F' 'M' 'N']\n"
     ]
    }
   ],
   "source": [
    "unique_sex_values = df_clean_students['sex'].unique()\n",
    "\n",
    "# Display the unique values in the 'sex' column\n",
    "print(unique_sex_values)\n"
   ]
  },
  {
   "cell_type": "code",
   "execution_count": 23,
   "id": "9f4bcdd1-bd1d-4127-b8b8-ad6b24b026fa",
   "metadata": {},
   "outputs": [
    {
     "name": "stdout",
     "output_type": "stream",
     "text": [
      "      uuid                  name        dob sex  \\\n",
      "9       10  Regenia van der Helm 1999-02-23   N   \n",
      "12      13     Edwardo Boonzayer 1975-05-23   N   \n",
      "41      42      Lynwood Adenrock 1952-03-30   N   \n",
      "50      51      Valorie Rijnberk 1986-09-06   N   \n",
      "52      53             Ted Groot 1950-06-06   N   \n",
      "...    ...                   ...        ...  ..   \n",
      "4975  4976          Jesusa Vonck 1979-06-10   N   \n",
      "4977  4978      Johnsie Petersen 1998-06-18   N   \n",
      "4989  4990        Macie Goudkade 1997-02-11   N   \n",
      "4995  4996      Quentin van Harn 1967-07-07   N   \n",
      "4998  4999      Donnetta Dillard 1943-02-12   N   \n",
      "\n",
      "                                           contact_info  job_id  \\\n",
      "9     {\"mailing_address\": \"220 Middle Ridge, Falcon ...       5   \n",
      "12    {\"mailing_address\": \"147 SW Plain, Solana Beac...       2   \n",
      "41    {\"mailing_address\": \"P.O. Box 68680, Minnetonk...       7   \n",
      "50    {\"mailing_address\": \"421 Iron End Motorway, Mo...       1   \n",
      "52    {\"mailing_address\": \"P.O. Box 14285, Haworth b...       2   \n",
      "...                                                 ...     ...   \n",
      "4975  {\"mailing_address\": \"768 Burning Meadow, Vienn...       4   \n",
      "4977  {\"mailing_address\": \"807 Blossom Passage, Poth...       2   \n",
      "4989  {\"mailing_address\": \"568 Cotton Berry, Point, ...       2   \n",
      "4995  {\"mailing_address\": \"591 Blue Berry, Coulee, I...       5   \n",
      "4998  {\"mailing_address\": \"900 Indian Oval, Euclid, ...       3   \n",
      "\n",
      "      num_course_taken  current_career_path_id  time_spent_hrs  \n",
      "9                    7                       6           13.55  \n",
      "12                  15                       5            6.09  \n",
      "41                  12                       7           10.01  \n",
      "50                  13                       1           15.83  \n",
      "52                  11                       4           19.73  \n",
      "...                ...                     ...             ...  \n",
      "4975                 4                       9           26.62  \n",
      "4977                 1                       1           18.57  \n",
      "4989                 3                       8           23.54  \n",
      "4995                 5                       2           13.82  \n",
      "4998                 6                       5           14.86  \n",
      "\n",
      "[881 rows x 9 columns]\n"
     ]
    }
   ],
   "source": [
    "# Filter rows where 'sex' is 'N'\n",
    "rows_with_N = df_clean_students[df_clean_students['sex'] == 'N']\n",
    "\n",
    "# Display the filtered rows\n",
    "print(rows_with_N)"
   ]
  },
  {
   "cell_type": "markdown",
   "id": "5152654d-3aa9-46a5-a0fc-6b67700855ca",
   "metadata": {},
   "source": [
    "There are 881 students whose gender is marked as 'N'. Since we cannot tell if this is a mistake or not, we assume that it is considered as 'Not assigned'"
   ]
  },
  {
   "cell_type": "code",
   "execution_count": 24,
   "id": "9a554edf-fb53-4af7-bb74-b5cfc2171842",
   "metadata": {},
   "outputs": [
    {
     "data": {
      "image/png": "[encoded data removed]",
      "text/plain": [
       "<Figure size 640x480 with 1 Axes>"
      ]
     },
     "metadata": {},
     "output_type": "display_data"
    }
   ],
   "source": [
    "df_clean_students['num_course_taken'].plot(kind='hist', bins=20, color='skyblue', edgecolor='black', title='Distribution of Number of Courses Taken')\n",
    "plt.xlabel('Number of Courses Taken')\n",
    "plt.ylabel('Frequency')\n",
    "plt.show()\n"
   ]
  },
  {
   "cell_type": "code",
   "execution_count": 25,
   "id": "bd0bc867-bf39-417a-935e-94cb67ac0f81",
   "metadata": {},
   "outputs": [
    {
     "data": {
      "image/png": "[encoded data removed]",
      "text/plain": [
       "<Figure size 640x480 with 1 Axes>"
      ]
     },
     "metadata": {},
     "output_type": "display_data"
    }
   ],
   "source": [
    "df_clean_students.plot(kind='scatter', x='num_course_taken', y='time_spent_hrs', color='blue', title='Time Spent vs. Number of Courses Taken')\n",
    "plt.xlabel('Number of Courses Taken')\n",
    "plt.ylabel('Time Spent (hrs)')\n",
    "plt.show()\n"
   ]
  },
  {
   "cell_type": "code",
   "execution_count": 26,
   "id": "d13fef77-8f37-4d00-bf33-f5754cc412c6",
   "metadata": {},
   "outputs": [
    {
     "data": {
      "image/png": "[encoded data removed]",
      "text/plain": [
       "<Figure size 640x480 with 1 Axes>"
      ]
     },
     "metadata": {},
     "output_type": "display_data"
    }
   ],
   "source": [
    "df_students['job_id'].value_counts().plot(kind='bar', color='lightgreen', title='Distribution of Students by Job Category')\n",
    "plt.xlabel('Job Category')\n",
    "plt.ylabel('Number of Students')\n",
    "plt.show()\n"
   ]
  },
  {
   "cell_type": "code",
   "execution_count": 27,
   "id": "d641fffc-00de-43b5-99a5-fd4c066470cb",
   "metadata": {},
   "outputs": [
    {
     "data": {
      "image/png": "[encoded data removed]",
      "text/plain": [
       "<Figure size 640x480 with 1 Axes>"
      ]
     },
     "metadata": {},
     "output_type": "display_data"
    }
   ],
   "source": [
    "df_students['sex'].value_counts().plot(kind='pie', autopct='%1.1f%%', colors=['lightblue', 'lightpink', 'lightgreen'], title='Gender Distribution')\n",
    "plt.ylabel('')\n",
    "plt.show()\n"
   ]
  },
  {
   "cell_type": "code",
   "execution_count": 28,
   "id": "6e8a8e0b-d27f-4dd0-8324-c3b5150fb662",
   "metadata": {},
   "outputs": [
    {
     "data": {
      "image/png": "[encoded data removed]",
      "text/plain": [
       "<Figure size 640x480 with 1 Axes>"
      ]
     },
     "metadata": {},
     "output_type": "display_data"
    }
   ],
   "source": [
    "df_students['current_career_path_id'].value_counts().plot(kind='bar', color='orange', title='Distribution of Students by Career Path')\n",
    "plt.xlabel('Career Path ID')\n",
    "plt.ylabel('Number of Students')\n",
    "plt.show()\n"
   ]
  },
  {
   "cell_type": "markdown",
   "id": "b53202d5-a0ac-4183-a356-1f1a46f046eb",
   "metadata": {},
   "source": [
    "Now when the data is cleaned I need to save it back to database."
   ]
  },
  {
   "cell_type": "code",
   "execution_count": 29,
   "id": "578cea3a-1f03-4923-a07a-2f855caafdad",
   "metadata": {},
   "outputs": [],
   "source": [
    "from sqlalchemy import MetaData, Table, Column, Integer, String, DateTime, Float, text\n",
    "\n",
    "# Define new table schemas\n",
    "metadata = MetaData()\n",
    "\n",
    "cademycode_students2 = Table(\n",
    "    'cademycode_students2',\n",
    "    metadata,\n",
    "    Column('uuid', Integer, primary_key=True),\n",
    "    Column('name', String),\n",
    "    Column('dob', DateTime),\n",
    "    Column('sex', String),\n",
    "    Column('contact_info', String),\n",
    "    Column('job_id', Integer),\n",
    "    Column('num_course_taken', Integer),\n",
    "    Column('current_career_path_id', Integer),\n",
    "    Column('time_spent_hrs', Float)\n",
    ")\n",
    "\n",
    "cademycode_jobs2 = Table(\n",
    "    'cademycode_jobs2',\n",
    "    metadata,\n",
    "    Column('job_id', Integer, primary_key=True),\n",
    "    Column('job_category', String),\n",
    "    Column('avg_salary', Integer)\n",
    ")\n",
    "\n",
    "cademycode_courses2 = Table(\n",
    "    'cademycode_courses2',\n",
    "    metadata,\n",
    "    Column('career_path_id', Integer, primary_key=True),\n",
    "    Column('career_path_name', String),\n",
    "    Column('hours_to_complete', Integer)\n",
    ")\n",
    "\n",
    "# Create new table\n",
    "metadata.create_all(engine)"
   ]
  },
  {
   "cell_type": "code",
   "execution_count": 30,
   "id": "05029a33-f27e-43e8-bc84-aaa0b377d0dd",
   "metadata": {},
   "outputs": [
    {
     "name": "stdout",
     "output_type": "stream",
     "text": [
      "<class 'pandas.core.frame.DataFrame'>\n",
      "RangeIndex: 4293 entries, 0 to 4292\n",
      "Data columns (total 9 columns):\n",
      " #   Column                  Non-Null Count  Dtype         \n",
      "---  ------                  --------------  -----         \n",
      " 0   uuid                    4293 non-null   int64         \n",
      " 1   name                    4293 non-null   object        \n",
      " 2   dob                     4293 non-null   datetime64[ns]\n",
      " 3   sex                     4293 non-null   object        \n",
      " 4   contact_info            4293 non-null   object        \n",
      " 5   job_id                  4293 non-null   int64         \n",
      " 6   num_course_taken        4293 non-null   int64         \n",
      " 7   current_career_path_id  4293 non-null   int64         \n",
      " 8   time_spent_hrs          4293 non-null   float64       \n",
      "dtypes: datetime64[ns](1), float64(1), int64(4), object(3)\n",
      "memory usage: 302.0+ KB\n",
      "None\n",
      "<class 'pandas.core.frame.DataFrame'>\n",
      "RangeIndex: 10 entries, 0 to 9\n",
      "Data columns (total 3 columns):\n",
      " #   Column        Non-Null Count  Dtype \n",
      "---  ------        --------------  ----- \n",
      " 0   job_id        10 non-null     int64 \n",
      " 1   job_category  10 non-null     object\n",
      " 2   avg_salary    10 non-null     int64 \n",
      "dtypes: int64(2), object(1)\n",
      "memory usage: 372.0+ bytes\n",
      "None\n",
      "<class 'pandas.core.frame.DataFrame'>\n",
      "RangeIndex: 10 entries, 0 to 9\n",
      "Data columns (total 3 columns):\n",
      " #   Column             Non-Null Count  Dtype \n",
      "---  ------             --------------  ----- \n",
      " 0   career_path_id     10 non-null     int64 \n",
      " 1   career_path_name   10 non-null     object\n",
      " 2   hours_to_complete  10 non-null     int64 \n",
      "dtypes: int64(2), object(1)\n",
      "memory usage: 372.0+ bytes\n",
      "None\n"
     ]
    }
   ],
   "source": [
    "# Insert data into new tables\n",
    "df_clean_students.to_sql('cademycode_students2', engine, if_exists='replace', index=False)\n",
    "cleaned_df_jobs.to_sql('cademycode_jobs2', engine, if_exists='replace', index=False)\n",
    "df_courses.to_sql('cademycode_courses2', engine, if_exists='replace', index=False)\n",
    "\n",
    "# Drop old table and rename new table\n",
    "with engine.connect() as conn:\n",
    "    # Drop old table and rename new table\n",
    "    drop_cademycode_students = text(\"DROP TABLE IF EXISTS cademycode_students\")\n",
    "    drop_cademycode_jobs = text(\"DROP TABLE IF EXISTS cademycode_student_jobs\")\n",
    "    drop_cademycode_courses = text(\"DROP TABLE IF EXISTS cademycode_courses\")\n",
    "\n",
    "    conn.execute(drop_cademycode_students)\n",
    "    conn.execute(drop_cademycode_jobs)\n",
    "    conn.execute(drop_cademycode_courses)\n",
    "\n",
    "    # Execute ALTER TABLE statement to rename\n",
    "    rename_drop_cademycode_students = text(\"ALTER TABLE cademycode_students2 RENAME TO cademycode_students\")\n",
    "    rename_drop_cademycode_jobs = text(\"ALTER TABLE cademycode_jobs2 RENAME TO cademycode_student_jobs\")\n",
    "    rename_drop_cademycode_courses = text(\"ALTER TABLE cademycode_courses2 RENAME TO cademycode_courses\")\n",
    "\n",
    "    conn.execute(rename_drop_cademycode_students)\n",
    "    conn.execute(rename_drop_cademycode_jobs)\n",
    "    conn.execute(rename_drop_cademycode_courses)\n",
    "\n",
    "# Verify changes\n",
    "df_students = pd.read_sql_table('cademycode_students', engine)\n",
    "df_jobs = pd.read_sql_table('cademycode_student_jobs', engine)\n",
    "df_courses = pd.read_sql_table('cademycode_courses', engine)\n",
    "\n",
    "\n",
    "print(df_students.info())\n",
    "print(df_jobs.info())\n",
    "print(df_courses.info())\n"
   ]
  },
  {
   "cell_type": "markdown",
   "id": "98fde3bc-3a5c-4f9e-86a0-b3ed26738d4f",
   "metadata": {},
   "source": [
    "## Create a merged CSV file"
   ]
  },
  {
   "cell_type": "code",
   "execution_count": 31,
   "id": "2bfb1405-6a88-4a53-8ae6-de84662859ed",
   "metadata": {},
   "outputs": [],
   "source": [
    "merged_df = pd.merge(df_students, df_jobs, on='job_id', how='inner')\n",
    "merged_df = pd.merge(merged_df, df_courses, left_on='current_career_path_id', right_on='career_path_id', how='inner')"
   ]
  },
  {
   "cell_type": "code",
   "execution_count": 32,
   "id": "6ac7e6e6-fad6-4601-8337-ae67194088f9",
   "metadata": {},
   "outputs": [],
   "source": [
    "merged_df.to_csv('merged_data_initial.csv', index=False)"
   ]
  }
 ],
 "metadata": {
  "kernelspec": {
   "display_name": "Python 3 (ipykernel)",
   "language": "python",
   "name": "python3"
  },
  "language_info": {
   "codemirror_mode": {
    "name": "ipython",
    "version": 3
   },
   "file_extension": ".py",
   "mimetype": "text/x-python",
   "name": "python",
   "nbconvert_exporter": "python",
   "pygments_lexer": "ipython3",
   "version": "3.12.1"
  }
 },
 "nbformat": 4,
 "nbformat_minor": 5
}
