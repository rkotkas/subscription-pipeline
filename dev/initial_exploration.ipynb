{
 "cells": [
  {
   "cell_type": "code",
   "execution_count": 62,
   "id": "c97ac4ed-1fe9-420b-b88c-950be1dda121",
   "metadata": {},
   "outputs": [],
   "source": [
    "from sqlalchemy import create_engine, inspect\n",
    "import pandas as pd\n",
    "\n",
    "# Path to the database file\n",
    "db_path = 'cademycode2.db'\n",
    "\n",
    "# Create a database engine\n",
    "engine = create_engine(f'sqlite:///{db_path}')"
   ]
  },
  {
   "cell_type": "code",
   "execution_count": 63,
   "id": "62b65ef9-1d46-4694-9661-18092b359d68",
   "metadata": {},
   "outputs": [],
   "source": [
    "# inspector to get the list of tables\n",
    "inspector = inspect(engine)\n",
    "tables = inspector.get_table_names()"
   ]
  },
  {
   "cell_type": "code",
   "execution_count": 64,
   "id": "71e96bb2-e521-4822-80f4-2520d4163a9f",
   "metadata": {},
   "outputs": [
    {
     "name": "stdout",
     "output_type": "stream",
     "text": [
      "Tables in the database:\n",
      "cademycode_courses\n",
      "Data from cademycode_courses:\n",
      "   career_path_id      career_path_name  hours_to_complete\n",
      "0               1        data scientist                 20\n",
      "1               2         data engineer                 20\n",
      "2               3          data analyst                 12\n",
      "3               4  software engineering                 25\n",
      "4               5      backend engineer                 18\n",
      "cademycode_student_jobs\n",
      "Data from cademycode_student_jobs:\n",
      "   job_id        job_category  avg_salary\n",
      "0       1           analytics       86000\n",
      "1       2            engineer      101000\n",
      "2       3  software developer      110000\n",
      "3       4            creative       66000\n",
      "4       5  financial services      135000\n",
      "cademycode_students\n",
      "Data from cademycode_students:\n",
      "   uuid             name         dob sex  \\\n",
      "0     1  Annabelle Avery  1943-07-03   F   \n",
      "1     2      Micah Rubio  1991-02-07   M   \n",
      "2     3       Hosea Dale  1989-12-07   M   \n",
      "3     4     Mariann Kirk  1988-07-31   F   \n",
      "4     5  Lucio Alexander  1963-08-31   M   \n",
      "\n",
      "                                        contact_info job_id num_course_taken  \\\n",
      "0  {'mailing_address': '303 N Timber Key, Irondal...    7.0              6.0   \n",
      "1  {'mailing_address': '767 Crescent Fair, Shoals...    7.0              5.0   \n",
      "2  {'mailing_address': 'P.O. Box 41269, St. Bonav...    7.0              8.0   \n",
      "3  {'mailing_address': '517 SE Wintergreen Isle, ...    6.0              7.0   \n",
      "4  {'mailing_address': '18 Cinder Cliff, Doyles b...    7.0             14.0   \n",
      "\n",
      "  current_career_path_id time_spent_hrs  \n",
      "0                    1.0           4.99  \n",
      "1                    8.0            4.4  \n",
      "2                    8.0           6.74  \n",
      "3                    9.0          12.31  \n",
      "4                    3.0           5.64  \n"
     ]
    }
   ],
   "source": [
    "# Import each table into a DataFrame\n",
    "dataframes = {}\n",
    "if not tables:\n",
    "    print(\"No tables found in the database.\")\n",
    "else:\n",
    "    print(\"Tables in the database:\")\n",
    "    for table in tables:\n",
    "        print(table)\n",
    "        df = pd.read_sql_table(table, engine)\n",
    "        dataframes[table] = df\n",
    "        print(f\"Data from {table}:\")\n",
    "        print(df.head())\n",
    "\n",
    "# Now all the tables have been loaded into DataFrames stored in the `dataframes` dictionary"
   ]
  },
  {
   "cell_type": "code",
   "execution_count": 65,
   "id": "14d698da-fece-4709-8e83-80301135444d",
   "metadata": {
    "scrolled": true
   },
   "outputs": [
    {
     "name": "stdout",
     "output_type": "stream",
     "text": [
      "    job_id        job_category  avg_salary\n",
      "0        1           analytics       86000\n",
      "1        2            engineer      101000\n",
      "2        3  software developer      110000\n",
      "3        4            creative       66000\n",
      "4        5  financial services      135000\n",
      "5        6           education       61000\n",
      "6        7                  HR       80000\n",
      "7        8             student       10000\n",
      "8        9          healthcare      120000\n",
      "9        0               other       80000\n",
      "10       3  software developer      110000\n",
      "11       4            creative       66000\n",
      "12       5  financial services      135000\n"
     ]
    }
   ],
   "source": [
    "df_courses = dataframes.get('cademycode_courses', pd.DataFrame())\n",
    "df_jobs = dataframes.get('cademycode_student_jobs', pd.DataFrame())\n",
    "df_students = dataframes.get('cademycode_students', pd.DataFrame())\n",
    "print(df_jobs)"
   ]
  },
  {
   "cell_type": "code",
   "execution_count": 66,
   "id": "21adebe8-4db2-41eb-90db-9f518dce5902",
   "metadata": {},
   "outputs": [
    {
     "name": "stdout",
     "output_type": "stream",
     "text": [
      "   uuid             name         dob sex  \\\n",
      "0     1  Annabelle Avery  1943-07-03   F   \n",
      "1     2      Micah Rubio  1991-02-07   M   \n",
      "2     3       Hosea Dale  1989-12-07   M   \n",
      "3     4     Mariann Kirk  1988-07-31   F   \n",
      "4     5  Lucio Alexander  1963-08-31   M   \n",
      "\n",
      "                                        contact_info  job_id  \\\n",
      "0  {'mailing_address': '303 N Timber Key, Irondal...     7.0   \n",
      "1  {'mailing_address': '767 Crescent Fair, Shoals...     7.0   \n",
      "2  {'mailing_address': 'P.O. Box 41269, St. Bonav...     7.0   \n",
      "3  {'mailing_address': '517 SE Wintergreen Isle, ...     6.0   \n",
      "4  {'mailing_address': '18 Cinder Cliff, Doyles b...     7.0   \n",
      "\n",
      "   num_course_taken  current_career_path_id  time_spent_hrs  \n",
      "0               6.0                     1.0            4.99  \n",
      "1               5.0                     8.0            4.40  \n",
      "2               8.0                     8.0            6.74  \n",
      "3               7.0                     9.0           12.31  \n",
      "4              14.0                     3.0            5.64  \n"
     ]
    }
   ],
   "source": [
    "from sqlalchemy import MetaData, Table, Column, Integer, String, DateTime, Float, text\n",
    "import json\n",
    "\n",
    "# Clean and process df_students\n",
    "df_students['job_id'] = pd.to_numeric(df_students['job_id'], errors='coerce')\n",
    "df_students['num_course_taken'] = pd.to_numeric(df_students['num_course_taken'], errors='coerce')\n",
    "df_students['current_career_path_id'] = pd.to_numeric(df_students['current_career_path_id'], errors='coerce')\n",
    "df_students['time_spent_hrs'] = pd.to_numeric(df_students['time_spent_hrs'], errors='coerce')\n",
    "\n",
    "print(df_students.head())"
   ]
  },
  {
   "cell_type": "code",
   "execution_count": 67,
   "id": "6ec95689-2a10-4d92-a836-5b80f49fdb3b",
   "metadata": {},
   "outputs": [],
   "source": [
    "# Drop rows with NaN values\n",
    "df_dropped = df_students.dropna(subset=['job_id', 'num_course_taken', 'current_career_path_id', 'time_spent_hrs'])\n",
    "df_dropped.loc[:, 'job_id'] = df_dropped['job_id'].astype(int)\n",
    "df_dropped.loc[:, 'num_course_taken'] = df_dropped['num_course_taken'].astype(int)\n",
    "df_dropped.loc[:, 'current_career_path_id'] = df_dropped['current_career_path_id'].astype(int)\n",
    "df_dropped.loc[:, 'time_spent_hrs'] = df_dropped['time_spent_hrs'].astype(float)\n",
    "df_dropped.loc[:, 'contact_info'] = df_dropped['contact_info'].apply(json.dumps)"
   ]
  },
  {
   "cell_type": "code",
   "execution_count": 68,
   "id": "b9a920e6-ce8e-495a-8018-88803a6e871c",
   "metadata": {},
   "outputs": [
    {
     "name": "stdout",
     "output_type": "stream",
     "text": [
      "   job_id        job_category  avg_salary\n",
      "0       1           analytics       86000\n",
      "1       2            engineer      101000\n",
      "2       3  software developer      110000\n",
      "3       4            creative       66000\n",
      "4       5  financial services      135000\n",
      "5       6           education       61000\n",
      "6       7                  HR       80000\n",
      "7       8             student       10000\n",
      "8       9          healthcare      120000\n",
      "9       0               other       80000\n"
     ]
    }
   ],
   "source": [
    "cleaned_df_jobs = df_jobs.drop_duplicates()\n",
    "print(cleaned_df_jobs)"
   ]
  },
  {
   "cell_type": "code",
   "execution_count": 70,
   "id": "0644dd4a-57d0-4323-82da-b1730b1480df",
   "metadata": {},
   "outputs": [],
   "source": [
    "# Define new table schema\n",
    "metadata = MetaData()\n",
    "\n",
    "cademycode_students2 = Table(\n",
    "    'cademycode_students2',\n",
    "    metadata,\n",
    "    Column('uuid', Integer, primary_key=True),\n",
    "    Column('name', String),\n",
    "    Column('dob', String),\n",
    "    Column('sex', String),\n",
    "    Column('contact_info', String),\n",
    "    Column('job_id', Integer),\n",
    "    Column('num_course_taken', Integer),\n",
    "    Column('current_career_path_id', Integer),\n",
    "    Column('time_spent_hrs', Float)\n",
    ")\n",
    "\n",
    "# Create new table\n",
    "metadata.create_all(engine)"
   ]
  },
  {
   "cell_type": "code",
   "execution_count": 71,
   "id": "1b98e4d4-c32a-48a8-a33a-9a8f9d89dd55",
   "metadata": {},
   "outputs": [],
   "source": [
    "# Insert data into new table\n",
    "df_dropped.to_sql('cademycode_students2', engine, if_exists='replace', index=False)\n",
    "\n",
    "# Drop old table and rename new table\n",
    "with engine.connect() as conn:\n",
    "    # Execute DROP TABLE statement\n",
    "    drop_statement = text(\"DROP TABLE IF EXISTS cademycode_students\")\n",
    "    conn.execute(drop_statement)\n",
    "\n",
    "    # Execute ALTER TABLE statement to rename\n",
    "    rename_statement = text(\"ALTER TABLE cademycode_students2 RENAME TO cademycode_students\")\n",
    "    conn.execute(rename_statement)\n",
    "\n",
    "# Verify changes\n",
    "df_updated = pd.read_sql_table('cademycode_students', engine)"
   ]
  },
  {
   "cell_type": "code",
   "execution_count": 72,
   "id": "f449df58-9fe0-4c92-a193-c6e8ac6d5954",
   "metadata": {},
   "outputs": [],
   "source": [
    "# Rename column\n",
    "alter_query = text(\"ALTER TABLE cademycode_students RENAME COLUMN current_career_path_id TO career_path_id\")\n",
    "\n",
    "with engine.connect() as conn:\n",
    "    conn.execute(alter_query)"
   ]
  },
  {
   "cell_type": "code",
   "execution_count": 73,
   "id": "583ec262-74f4-48ea-8b05-2cd1b0e3d5fa",
   "metadata": {},
   "outputs": [],
   "source": [
    "# Load data after alteration\n",
    "df_students = pd.read_sql(\"SELECT * FROM cademycode_students\", engine)"
   ]
  },
  {
   "cell_type": "code",
   "execution_count": 74,
   "id": "dff12714-d092-40d8-b280-035a14b21cb1",
   "metadata": {},
   "outputs": [],
   "source": [
    "merged_df = pd.merge(df_students, cleaned_df_jobs, on='job_id', how='inner')\n",
    "merged_df = pd.merge(merged_df, df_courses, on='career_path_id', how='inner')"
   ]
  },
  {
   "cell_type": "code",
   "execution_count": 75,
   "id": "267cf2d2-83d5-47c2-acef-d4ce4b7a82c6",
   "metadata": {},
   "outputs": [],
   "source": [
    "merged_df.to_csv('merged_data.csv', index=False)"
   ]
  }
 ],
 "metadata": {
  "kernelspec": {
   "display_name": "Python 3 (ipykernel)",
   "language": "python",
   "name": "python3"
  },
  "language_info": {
   "codemirror_mode": {
    "name": "ipython",
    "version": 3
   },
   "file_extension": ".py",
   "mimetype": "text/x-python",
   "name": "python",
   "nbconvert_exporter": "python",
   "pygments_lexer": "ipython3",
   "version": "3.12.1"
  }
 },
 "nbformat": 4,
 "nbformat_minor": 5
}
